{
  "cells": [
    {
      "cell_type": "code",
      "execution_count": 1,
      "metadata": {
        "id": "59U0Tz4JmWTX"
      },
      "outputs": [],
      "source": [
        "import numpy as np\n",
        "import tensorflow as tf\n",
        "import tensorflow_addons as tfa"
      ]
    },
    {
      "cell_type": "code",
      "execution_count": 2,
      "metadata": {
        "id": "c5u1r9-7mrwA"
      },
      "outputs": [],
      "source": [
        "TAG_SIZE = 2\n",
        "VOCAB_SIZE = 20000"
      ]
    },
    {
      "cell_type": "code",
      "execution_count": 3,
      "metadata": {
        "id": "5y2LmfWfpw9g"
      },
      "outputs": [],
      "source": [
        "import pandas as pd\n",
        "from sklearn.model_selection import train_test_split\n",
        "from sklearn.preprocessing import LabelEncoder\n",
        "\n",
        "def create_data_generatorr(dataset):\n",
        "  def data_generator():\n",
        "    for i in range(len(dataset)):\n",
        "      left = dataset.loc[i]['x'].split(' ')\n",
        "      right = None\n",
        "      if dataset.loc[i]['y'] == 0:\n",
        "        right = [0 for i in range(len(left))]\n",
        "      else:\n",
        "        right = [1 for i in range(len(left))]\n",
        "      yield left, right\n",
        "  \n",
        "  return data_generator\n",
        "\n",
        "df = pd.read_csv('../scraper/datasets/latest.csv')\n",
        "\n",
        "le = LabelEncoder()\n",
        "df['truth_value'] = le.fit_transform(df['truth_value'])\n",
        "\n",
        "xtrain, xtest, ytrain, ytest = train_test_split(df['claim'], df['truth_value'], test_size=0.2, random_state=42)\n",
        "\n",
        "train = pd.concat({'x': xtrain, 'y': ytrain}, axis=1)\n",
        "train.reset_index(drop=True, inplace=True)\n",
        "\n",
        "splittrain = train['x'].apply(lambda x: x.split(' '))\n",
        "xtrain_tokens = tf.ragged.constant(train['x'].apply(lambda x: x.split(' ')))\n",
        "xtrain_tokens = tf.map_fn(tf.strings.lower, xtrain_tokens)\n",
        "\n",
        "trainlookup_layer = tf.keras.layers.StringLookup(max_tokens=VOCAB_SIZE, mask_token=\"[MASK]\", oov_token=\"[UNK]\")\n",
        "trainlookup_layer.adapt(xtrain_tokens)\n",
        "\n",
        "\n",
        "data_signature= (\n",
        "        tf.TensorSpec(shape=(None,), dtype=tf.string),\n",
        "        tf.TensorSpec(shape=(None, ), dtype=tf.int32)\n",
        ")\n",
        "\n",
        "train_data = tf.data.Dataset.from_generator(\n",
        "    create_data_generatorr(train),\n",
        "    output_signature=data_signature\n",
        ")"
      ]
    },
    {
      "cell_type": "code",
      "execution_count": 4,
      "metadata": {
        "_cell_guid": "b1076dfc-b9ad-4769-8c92-a6c4dae69d19",
        "_uuid": "8f2839f25d086af736a60e9eeb907d3b93b6e0e5",
        "id": "3Dabc9ghlgSk",
        "trusted": true
      },
      "outputs": [],
      "source": [
        "import pandas as pd\n",
        "from sklearn.model_selection import train_test_split\n",
        "from sklearn.preprocessing import LabelEncoder\n",
        "\n",
        "def create_data_generatorr(dataset):\n",
        "  def data_generator():\n",
        "    for i in range(len(dataset)):\n",
        "      left = dataset.loc[i]['x'].split(' ')\n",
        "      right = None\n",
        "      if dataset.loc[i]['y'] == 0:\n",
        "        right = [0 for i in range(len(left))]\n",
        "      else:\n",
        "        right = [1 for i in range(len(left))]\n",
        "      yield left, right\n",
        "  \n",
        "  return data_generator\n",
        "\n",
        "df = pd.read_csv('../scraper/datasets/latest.csv')\n",
        "\n",
        "le = LabelEncoder()\n",
        "df['truth_value'] = le.fit_transform(df['truth_value'])\n",
        "\n",
        "xtrain, xtest, ytrain, ytest = train_test_split(df['claim'], df['truth_value'], test_size=0.2, random_state=42)\n",
        "\n",
        "train = pd.concat({'x': xtrain, 'y': ytrain}, axis=1)\n",
        "train.reset_index(drop=True, inplace=True)\n",
        "test = pd.concat({'x': xtest, 'y': ytest}, axis=1)\n",
        "test.reset_index(drop=True, inplace=True)\n",
        "\n",
        "splittrain = train['x'].apply(lambda x: x.split(' '))\n",
        "splittest = test['x'].apply(lambda x: x.split(' '))\n",
        "xtrain_tokens = tf.ragged.constant(train['x'].apply(lambda x: x.split(' ')))\n",
        "xtrain_tokens = tf.map_fn(tf.strings.lower, xtrain_tokens)\n",
        "xtest_tokens = tf.ragged.constant(test['x'].apply(lambda x: x.split(' ')))\n",
        "xtest_tokens = tf.map_fn(tf.strings.lower, xtest_tokens)\n",
        "\n",
        "trainlookup_layer = tf.keras.layers.StringLookup(max_tokens=VOCAB_SIZE, mask_token=\"[MASK]\", oov_token=\"[UNK]\")\n",
        "trainlookup_layer.adapt(xtrain_tokens)\n",
        "testlookup_layer = tf.keras.layers.StringLookup(max_tokens=VOCAB_SIZE, mask_token=\"[MASK]\", oov_token=\"[UNK]\")\n",
        "testlookup_layer.adapt(xtest_tokens)\n",
        "\n",
        "\n",
        "data_signature= (\n",
        "        tf.TensorSpec(shape=(None,), dtype=tf.string),\n",
        "        tf.TensorSpec(shape=(None, ), dtype=tf.int32)\n",
        ")\n",
        "\n",
        "train_data = tf.data.Dataset.from_generator(\n",
        "    create_data_generatorr(train),\n",
        "    output_signature=data_signature\n",
        ")\n",
        "test_data = tf.data.Dataset.from_generator(\n",
        "    create_data_generatorr(test),\n",
        "    output_signature=data_signature\n",
        ")"
      ]
    },
    {
      "cell_type": "code",
      "execution_count": 5,
      "metadata": {
        "id": "k3bL8c83X2GU"
      },
      "outputs": [],
      "source": [
        "\n",
        "xtrain, xtest, ytrain, ytest = train_test_split(df['simple_sentence'], df['truth_value'], test_size=0.2, random_state=42)\n",
        "\n",
        "train = pd.concat({'x': xtrain, 'y': ytrain}, axis=1)\n",
        "train.reset_index(drop=True, inplace=True)\n",
        "test = pd.concat({'x': xtest, 'y': ytest}, axis=1)\n",
        "test.reset_index(drop=True, inplace=True)\n",
        "\n",
        "splittrain = train['x'].apply(lambda x: x.split(' '))\n",
        "splittest = test['x'].apply(lambda x: x.split(' '))\n",
        "xtrain_tokens = tf.ragged.constant(train['x'].apply(lambda x: x.split(' ')))\n",
        "xtrain_tokens = tf.map_fn(tf.strings.lower, xtrain_tokens)\n",
        "xtest_tokens = tf.ragged.constant(test['x'].apply(lambda x: x.split(' ')))\n",
        "xtest_tokens = tf.map_fn(tf.strings.lower, xtest_tokens)\n",
        "\n",
        "trainlookup_layer = tf.keras.layers.StringLookup(max_tokens=VOCAB_SIZE, mask_token=\"[MASK]\", oov_token=\"[UNK]\")\n",
        "trainlookup_layer.adapt(xtrain_tokens)\n",
        "testlookup_layer = tf.keras.layers.StringLookup(max_tokens=VOCAB_SIZE, mask_token=\"[MASK]\", oov_token=\"[UNK]\")\n",
        "testlookup_layer.adapt(xtest_tokens)\n",
        "\n",
        "\n",
        "data_signature= (\n",
        "        tf.TensorSpec(shape=(None,), dtype=tf.string),\n",
        "        tf.TensorSpec(shape=(None, ), dtype=tf.int32)\n",
        ")\n",
        "\n",
        "train_data = tf.data.Dataset.from_generator(\n",
        "    create_data_generatorr(train),\n",
        "    output_signature=data_signature\n",
        ")\n",
        "test_data = tf.data.Dataset.from_generator(\n",
        "    create_data_generatorr(test),\n",
        "    output_signature=data_signature\n",
        ")"
      ]
    },
    {
      "cell_type": "code",
      "execution_count": 6,
      "metadata": {
        "colab": {
          "base_uri": "https://localhost:8080/"
        },
        "id": "weY05axDlgSm",
        "outputId": "d9181fd5-a096-4578-b704-dc59890bf94a"
      },
      "outputs": [
        {
          "data": {
            "text/plain": [
              "('A Culture in the Cross Hairs.Russia’s invasion has systematically destroyed Ukrainian cultural sites.A Times investigation has identified 339 that sustained substantial damage this year..',\n",
              " 1)"
            ]
          },
          "execution_count": 6,
          "metadata": {},
          "output_type": "execute_result"
        }
      ],
      "source": [
        "xxtest = xtest.reset_index(drop=True)\n",
        "yytest = ytest.reset_index(drop=True)\n",
        "xxtest.loc[0], yytest.loc[0]"
      ]
    },
    {
      "cell_type": "code",
      "execution_count": 7,
      "metadata": {
        "id": "qLUCGvtEssNR"
      },
      "outputs": [
        {
          "data": {
            "text/html": [
              "<div>\n",
              "<style scoped>\n",
              "    .dataframe tbody tr th:only-of-type {\n",
              "        vertical-align: middle;\n",
              "    }\n",
              "\n",
              "    .dataframe tbody tr th {\n",
              "        vertical-align: top;\n",
              "    }\n",
              "\n",
              "    .dataframe thead th {\n",
              "        text-align: right;\n",
              "    }\n",
              "</style>\n",
              "<table border=\"1\" class=\"dataframe\">\n",
              "  <thead>\n",
              "    <tr style=\"text-align: right;\">\n",
              "      <th></th>\n",
              "      <th>x</th>\n",
              "    </tr>\n",
              "  </thead>\n",
              "  <tbody>\n",
              "    <tr>\n",
              "      <th>0</th>\n",
              "      <td>A Culture in the Cross Hairs.Russia’s invasion...</td>\n",
              "    </tr>\n",
              "    <tr>\n",
              "      <th>1</th>\n",
              "      <td>Amid Mounting Frustration With Germany, Ukrain...</td>\n",
              "    </tr>\n",
              "    <tr>\n",
              "      <th>2</th>\n",
              "      <td>Biden does not want to introduce a no-fly zone...</td>\n",
              "    </tr>\n",
              "    <tr>\n",
              "      <th>3</th>\n",
              "      <td>Says of disclosing his $20,000 speech about Sy...</td>\n",
              "    </tr>\n",
              "    <tr>\n",
              "      <th>4</th>\n",
              "      <td>I’m the Prime Minister of Estonia.Putin Can’t ...</td>\n",
              "    </tr>\n",
              "    <tr>\n",
              "      <th>...</th>\n",
              "      <td>...</td>\n",
              "    </tr>\n",
              "    <tr>\n",
              "      <th>1082</th>\n",
              "      <td>Davos Worries About a ‘Polycrisis’.So many glo...</td>\n",
              "    </tr>\n",
              "    <tr>\n",
              "      <th>1083</th>\n",
              "      <td>Russia is taking two steps to de-escalate the ...</td>\n",
              "    </tr>\n",
              "    <tr>\n",
              "      <th>1084</th>\n",
              "      <td>Justice Dept.Announces Task Force to Go After ...</td>\n",
              "    </tr>\n",
              "    <tr>\n",
              "      <th>1085</th>\n",
              "      <td>BMW factories in Europe suspend work due to a ...</td>\n",
              "    </tr>\n",
              "    <tr>\n",
              "      <th>1086</th>\n",
              "      <td>Wisconsin uses voting machines that are outlaw...</td>\n",
              "    </tr>\n",
              "  </tbody>\n",
              "</table>\n",
              "<p>1087 rows × 1 columns</p>\n",
              "</div>"
            ],
            "text/plain": [
              "                                                      x\n",
              "0     A Culture in the Cross Hairs.Russia’s invasion...\n",
              "1     Amid Mounting Frustration With Germany, Ukrain...\n",
              "2     Biden does not want to introduce a no-fly zone...\n",
              "3     Says of disclosing his $20,000 speech about Sy...\n",
              "4     I’m the Prime Minister of Estonia.Putin Can’t ...\n",
              "...                                                 ...\n",
              "1082  Davos Worries About a ‘Polycrisis’.So many glo...\n",
              "1083  Russia is taking two steps to de-escalate the ...\n",
              "1084  Justice Dept.Announces Task Force to Go After ...\n",
              "1085  BMW factories in Europe suspend work due to a ...\n",
              "1086  Wisconsin uses voting machines that are outlaw...\n",
              "\n",
              "[1087 rows x 1 columns]"
            ]
          },
          "execution_count": 7,
          "metadata": {},
          "output_type": "execute_result"
        }
      ],
      "source": [
        "xxxtest = pd.DataFrame({'x': xxtest}, columns=['x'])\n",
        "xxxtest"
      ]
    },
    {
      "cell_type": "code",
      "execution_count": 14,
      "metadata": {
        "id": "ZkPD725nlgSn"
      },
      "outputs": [
        {
          "name": "stdout",
          "output_type": "stream",
          "text": [
            "What Ukraine Teaches Us About Power.Acting tough doesn’t make you strong, even militarily.. tf.Tensor([1 1 1 1 1 1 1 1 1 1 1 1 1], shape=(13,), dtype=int32)\n",
            "After the stunning success of a Ukrainian counteroffensive. Momentum in the war has shifted to Kyiv. Russia is showing no signs of giving up. . . tf.Tensor([1 1 1 1 1 1 1 1 1 1 1 1 1 1 1 1 1 1 1 1 1 1 1 1 1 1], shape=(26,), dtype=int32)\n",
            "Additional troops were sent to the border of the Kursk region after shelling from Ukraine - the governor . tf.Tensor([1 1 1 1 1 1 1 1 1 1 1 1 1 1 1 1 1 1 1], shape=(19,), dtype=int32)\n",
            "\"The United States has the highest incarceration rate in the world.\". tf.Tensor([1 1 1 1 1 1 1 1 1 1 1], shape=(11,), dtype=int32)\n",
            "The situation in Ukraine after the attacks on infrastructure facilities is critical - Zelenskyi's office . tf.Tensor([1 1 1 1 1 1 1 1 1 1 1 1 1 1 1 1], shape=(16,), dtype=int32)\n",
            "Biden intends to tell Xi Jinping that the US will take action if it turns out that China supports Russia's actions in Ukraine - Secretary of State Blinken . tf.Tensor([1 1 1 1 1 1 1 1 1 1 1 1 1 1 1 1 1 1 1 1 1 1 1 1 1 1 1 1 1], shape=(29,), dtype=int32)\n",
            "The United States is launching a program for accepting refugees from Ukraine. Allows them to speed up their immigration — Biden. .  tf.Tensor([1 1 1 1 1 1 1 1 1 1 1 1 1 1 1 1 1 1 1 1 1 1 1], shape=(23,), dtype=int32)\n",
            "In Ukraine, almost 1.5 million subscribers remained without electricity - Presidential Administration.. tf.Tensor([1 1 1 1 1 1 1 1 1 1 1 1], shape=(12,), dtype=int32)\n",
            "Ukraine is readying a force of 1 million with Western weapons to try to retake southern territory from Russia, Ukraine's defense minister told a British newspaper.. tf.Tensor([1 1 1 1 1 1 1 1 1 1 1 1 1 1 1 1 1 1 1 1 1 1 1 1 1 1], shape=(26,), dtype=int32)\n",
            "French President Emmanuel Macron said that he does not expect the situation in Ukraine to be resolved in the near future.. tf.Tensor([1 1 1 1 1 1 1 1 1 1 1 1 1 1 1 1 1 1 1 1 1], shape=(21,), dtype=int32)\n",
            "\"The Russian army does not occupy Ukrainian territory.\". tf.Tensor([0 0 0 0 0 0 0 0], shape=(8,), dtype=int32)\n"
          ]
        }
      ],
      "source": [
        "i = 0\n",
        "for a, b in train_data:\n",
        "  print(' '.join([aa.decode('UTF-8') for aa in a.numpy()]), b)\n",
        "  i += 1\n",
        "  if i>10:\n",
        "    break"
      ]
    },
    {
      "cell_type": "code",
      "execution_count": 8,
      "metadata": {
        "id": "rmaZAjxrlgSn"
      },
      "outputs": [],
      "source": [
        "def dataset_preprocess_train(tokens, tag_ids):\n",
        "    preprocessed_tokens = preprecess_tokens_test(tokens)\n",
        "    return preprocessed_tokens, tag_ids\n",
        "\n",
        "def preprecess_tokens_train(tokens):\n",
        "    tokens = tf.strings.lower(tokens)\n",
        "    return trainlookup_layer(tokens)\n",
        "\n",
        "def dataset_preprocess_test(tokens, tag_ids):\n",
        "    preprocessed_tokens = preprecess_tokens_test(tokens)\n",
        "    return preprocessed_tokens, tag_ids\n",
        "\n",
        "def preprecess_tokens_test(tokens):\n",
        "    tokens = tf.strings.lower(tokens)\n",
        "    return testlookup_layer(tokens)\n",
        "\n",
        "BATCH_SIZE = 2048\n",
        "\n",
        "train_dataset = (\n",
        "    train_data.map(dataset_preprocess_train)\n",
        "    .padded_batch(batch_size=BATCH_SIZE).cache()\n",
        ")\n",
        "test_dataset = (\n",
        "    test_data.map(dataset_preprocess_test)\n",
        "    .padded_batch(batch_size=BATCH_SIZE).cache()\n",
        ")\n"
      ]
    },
    {
      "cell_type": "code",
      "execution_count": 9,
      "metadata": {
        "id": "kywd6Tq1lgSp"
      },
      "outputs": [],
      "source": [
        "# Build the model\n",
        "def build_embedding_bilstm_crf_model(\n",
        "    vocab_size: int, embed_dims: int, lstm_unit: int, tag_size: int\n",
        ") -> tf.keras.Model:\n",
        "    x = tf.keras.layers.Input(shape=(None,), dtype=tf.int32, name=\"x\")\n",
        "    y = tf.keras.layers.Embedding(vocab_size, embed_dims, mask_zero=True)(x)\n",
        "    y = tf.keras.layers.Bidirectional(\n",
        "        tf.keras.layers.LSTM(lstm_unit, return_sequences=True)\n",
        "    )(y)\n",
        "    decode_sequence, potentials, sequence_length, kernel = tfa.layers.CRF(tag_size)(y)\n",
        "    return tf.keras.Model(\n",
        "        inputs=x, outputs=[decode_sequence, potentials, sequence_length, kernel]\n",
        "    )\n",
        "\n",
        "model = None\n",
        "optimizer = None"
      ]
    },
    {
      "cell_type": "code",
      "execution_count": 10,
      "metadata": {
        "id": "seNDRjdIlgSp"
      },
      "outputs": [],
      "source": [
        "@tf.function\n",
        "def crf_loss_func(potentials, sequence_length, kernel, y):\n",
        "    crf_likelihood, _ = tfa.text.crf_log_likelihood(\n",
        "        potentials, y, sequence_length, kernel\n",
        "    )\n",
        "    # likelihood to loss\n",
        "    flat_crf_loss = -1 * crf_likelihood\n",
        "    crf_loss = tf.reduce_mean(flat_crf_loss)\n",
        "\n",
        "    return crf_loss\n",
        "\n",
        "train_loss = tf.keras.metrics.Mean(name=\"train_loss\")\n",
        "\n",
        "@tf.function(experimental_relax_shapes=True)\n",
        "def train_step(x, y):\n",
        "    global cur\n",
        "    global model\n",
        "    global optimizer\n",
        "    with tf.GradientTape() as tape:\n",
        "        decoded_sequence, potentials, sequence_length, kernel = model(x)\n",
        "        crf_loss = crf_loss_func(potentials, sequence_length, kernel, y)\n",
        "        loss = crf_loss + tf.reduce_sum(model.losses)\n",
        "    grads = tape.gradient(loss, model.trainable_variables)\n",
        "    optimizer.apply_gradients(zip(grads, model.trainable_variables))\n",
        "\n",
        "    train_loss(loss)\n"
      ]
    },
    {
      "cell_type": "code",
      "execution_count": 19,
      "metadata": {
        "colab": {
          "base_uri": "https://localhost:8080/",
          "height": 487
        },
        "id": "JMbONC6t128-",
        "outputId": "6f973ae3-45b2-4d29-df7e-e1a7ed7db66a"
      },
      "outputs": [
        {
          "name": "stdout",
          "output_type": "stream",
          "text": [
            "(2048, 489)\n",
            "(2048, 261)\n",
            "(249, 134)\n",
            "Epoch 1, Loss: 9.534712791442871\n",
            "(2048, 489)\n",
            "(2048, 261)\n",
            "(249, 134)\n",
            "Epoch 2, Loss: 6.2550482749938965\n",
            "(2048, 489)\n",
            "(2048, 261)\n",
            "(249, 134)\n",
            "Epoch 3, Loss: 3.819411039352417\n",
            "(2048, 489)\n"
          ]
        }
      ],
      "source": [
        "import tensorflow_addons as tfa\n",
        "model = build_embedding_bilstm_crf_model(VOCAB_SIZE, 32, 64, 2)\n",
        "optimizer = tf.keras.optimizers.Adam(0.02)\n",
        "\n",
        "\n",
        "for epoch in range(15):\n",
        "  # Reset the metrics at the start of the next epoch\n",
        "  train_loss.reset_states()\n",
        "\n",
        "  for x, y in train_dataset:\n",
        "      print(x.shape)\n",
        "      train_step(x, y)\n",
        "      # train_step2(x, y)\n",
        "  print(f\"Epoch {epoch + 1}, \" f\"Loss: {train_loss.result()}\")\n"
      ]
    },
    {
      "cell_type": "code",
      "execution_count": 57,
      "metadata": {
        "colab": {
          "base_uri": "https://localhost:8080/"
        },
        "id": "fcIHK8D8Nxcg",
        "outputId": "8682d03a-9cf8-4302-c7ba-31cf74be30c4"
      },
      "outputs": [],
      "source": [
        "o = []\n",
        "oy = []\n",
        "\n",
        "def processs(x, pred):\n",
        "  res = []\n",
        "  for i in range(len(x)):\n",
        "    b = pred[i]\n",
        "    tot = (sum(b) / len(b)) * 100\n",
        "    label = 1\n",
        "    if tot <= 50:\n",
        "      label = 0\n",
        "    res.append(label)\n",
        "  return res\n",
        "\n"
      ]
    },
    {
      "cell_type": "code",
      "execution_count": null,
      "metadata": {
        "id": "-cnNc7s8lgSp"
      },
      "outputs": [],
      "source": [
        "from tqdm import tqdm\n",
        "\n",
        "EPOCHS = 25\n",
        "\n",
        "# models = [None for i in range(EPOCHS+1)]\n",
        "# optimizers = [None for i in range(EPOCHS+1)]\n",
        "cur = 20\n",
        "for e in range(cur, EPOCHS):\n",
        "    model = build_embedding_bilstm_crf_model(VOCAB_SIZE, 32, 64, 2)\n",
        "    optimizer = tf.keras.optimizers.Adam(0.02)\n",
        "\n",
        "    for epoch in range(e):\n",
        "      # Reset the metrics at the start of the next epoch\n",
        "      train_loss.reset_states()\n",
        "\n",
        "      for x, y in train_dataset:\n",
        "          train_step(x, y)\n",
        "\n",
        "      print(f\"Epoch {epoch + 1}, \" f\"Loss: {train_loss.result()}\")\n",
        "    \n",
        "      acc = 0\n",
        "      counter = 0\n",
        "      for i, row in tqdm(xxxtest.iterrows(), total=xxxtest.shape[0]):\n",
        "        tx = xxtest.loc[i]\n",
        "        ty = yytest.loc[i]\n",
        "        preprocessed_inputs = preprecess_tokens_train(tx.split(' '))\n",
        "        # expend the batch dim\n",
        "        inputs = tf.reshape(preprocessed_inputs, shape=[1, -1])\n",
        "\n",
        "        outputs, *_ = model.predict(inputs, verbose=0)\n",
        "        tot = (sum(outputs[0]) / len(outputs[0])) * 100\n",
        "        label = 1\n",
        "        if tot <= 50:\n",
        "          label = 0\n",
        "        # print(ty, label)\n",
        "        if ty == label:\n",
        "          acc += 1\n",
        "        # if counter > 100:\n",
        "        #   break\n",
        "        counter += 1\n",
        "      acc /= len(xxtest)\n",
        "      print('\\n', acc)\n",
        "      cur += 1"
      ]
    },
    {
      "cell_type": "code",
      "execution_count": null,
      "metadata": {
        "id": "q9DOvA1NnQ9h"
      },
      "outputs": [],
      "source": [
        "EPOCHS = 10\n",
        "\n",
        "for epoch in range(EPOCHS):\n",
        "    # Reset the metrics at the start of the next epoch\n",
        "    train_loss.reset_states()\n",
        "\n",
        "    for x, y in train_dataset:\n",
        "        train_step(x, y)\n",
        "\n",
        "    print(f\"Epoch {epoch + 1}, \" f\"Loss: {train_loss.result()}\")\n"
      ]
    },
    {
      "cell_type": "code",
      "execution_count": 12,
      "metadata": {
        "id": "Nv94sOIRnUpn"
      },
      "outputs": [
        {
          "name": "stdout",
          "output_type": "stream",
          "text": [
            "WARNING:tensorflow:From c:\\Users\\karun\\Documents\\Code\\FYP-Fake-News\\project\\lib\\site-packages\\tensorflow\\python\\autograph\\pyct\\static_analysis\\liveness.py:83: Analyzer.lamba_check (from tensorflow.python.autograph.pyct.static_analysis.liveness) is deprecated and will be removed after 2023-09-23.\n",
            "Instructions for updating:\n",
            "Lambda fuctions will be no more assumed to be used in the statement where they are used, or at least in the same block. https://github.com/tensorflow/tensorflow/issues/56089\n",
            "WARNING:tensorflow:No training configuration found in the save file, so the model was *not* compiled. Compile it manually.\n",
            "WARNING:tensorflow:No training configuration found in the save file, so the model was *not* compiled. Compile it manually.\n"
          ]
        }
      ],
      "source": [
        "from tensorflow_addons.layers import CRF\n",
        "m1 = tf.keras.models.load_model('./m1.h5', custom_objects={\"CRF\": CRF})\n",
        "m2 = tf.keras.models.load_model('./m2.h5', custom_objects={\"CRF\": CRF})\n"
      ]
    },
    {
      "cell_type": "code",
      "execution_count": 59,
      "metadata": {
        "colab": {
          "base_uri": "https://localhost:8080/"
        },
        "id": "V4IoZAUce54Z",
        "outputId": "a0bf8146-5851-4ead-9f4b-f50506a380d0"
      },
      "outputs": [
        {
          "name": "stdout",
          "output_type": "stream",
          "text": [
            "(2048, 489) (2048, 489)\n",
            "64/64 [==============================] - 7s 101ms/step\n",
            "64/64 [==============================] - 8s 127ms/step\n",
            "2048 2048 2048\n",
            "(2048, 261) (2048, 261)\n",
            "64/64 [==============================] - 6s 97ms/step\n",
            "64/64 [==============================] - 6s 94ms/step\n",
            "2048 2048 2048\n",
            "(249, 134) (249, 134)\n",
            "8/8 [==============================] - 0s 53ms/step\n",
            "8/8 [==============================] - 1s 70ms/step\n",
            "249 249 249\n",
            "              precision    recall  f1-score   support\n",
            "\n",
            "           0       0.10      1.00      0.19       440\n",
            "           1       0.98      0.01      0.03      3905\n",
            "\n",
            "    accuracy                           0.11      4345\n",
            "   macro avg       0.54      0.51      0.11      4345\n",
            "weighted avg       0.89      0.11      0.04      4345\n",
            "\n",
            "[[ 439    1]\n",
            " [3855   50]]\n",
            "              precision    recall  f1-score   support\n",
            "\n",
            "           0       0.10      1.00      0.19       440\n",
            "           1       0.98      0.01      0.02      3905\n",
            "\n",
            "    accuracy                           0.11      4345\n",
            "   macro avg       0.54      0.51      0.11      4345\n",
            "weighted avg       0.89      0.11      0.04      4345\n",
            "\n",
            "[[ 439    1]\n",
            " [3856   49]]\n"
          ]
        }
      ],
      "source": [
        "from sklearn.metrics import classification_report, confusion_matrix\n",
        "o = []\n",
        "oy = []\n",
        "m1preds = []\n",
        "m2preds = []\n",
        "for x, y in train_dataset:\n",
        "  print(x.shape, y.shape)\n",
        "  # print(y, y.shape)\n",
        "  outputs1, *_ = m1.predict(x)\n",
        "  outputs2, *_ = m2.predict(x)\n",
        "  a = processs(x.numpy(), outputs1)\n",
        "  b = processs(x.numpy(), outputs2)\n",
        "  m1preds += a\n",
        "  m2preds += b\n",
        "  print(len(x.numpy()), len(a), len(b))\n",
        "  o += zip(tf.keras.preprocessing.sequence.pad_sequences(x, maxlen=500), a, b)\n",
        "  oy += [p[0] for p in y.numpy()]\n",
        "\n",
        "print(classification_report(oy, m1preds))\n",
        "print(confusion_matrix(oy, m1preds))\n",
        "print(classification_report(oy, m2preds))\n",
        "print(confusion_matrix(oy, m2preds))"
      ]
    },
    {
      "cell_type": "code",
      "execution_count": 51,
      "metadata": {},
      "outputs": [
        {
          "name": "stdout",
          "output_type": "stream",
          "text": [
            "[502, 502, 502, 502, 502, 502, 502, 502, 502, 502, 502, 502, 502, 502, 502, 502, 502, 502, 502, 502, 502, 502, 502, 502, 502, 502, 502, 502, 502, 502, 502, 502, 502, 502, 502, 502, 502, 502, 502, 502, 502, 502, 502, 502, 502, 502, 502, 502, 502, 502, 502, 502, 502, 502, 502, 502, 502, 502, 502, 502, 502, 502, 502, 502, 502, 502, 502, 502, 502, 502, 502, 502, 502, 502, 502, 502, 502, 502, 502, 502, 502, 502, 502, 502, 502, 502, 502, 502, 502, 502, 502, 502, 502, 502, 502, 502, 502, 502, 502, 502, 502, 502, 502, 502, 502, 502, 502, 502, 502, 502, 502, 502, 502, 502, 502, 502, 502, 502, 502, 502, 502, 502, 502, 502, 502, 502, 502, 502, 502, 502, 502, 502, 502, 502, 502, 502, 502, 502, 502, 502, 502, 502, 502, 502, 502, 502, 502, 502, 502, 502, 502, 502, 502, 502, 502, 502, 502, 502, 502, 502, 502, 502, 502, 502, 502, 502, 502, 502, 502, 502, 502, 502, 502, 502, 502, 502, 502, 502, 502, 502, 502, 502, 502, 502, 502, 502, 502, 502, 502, 502, 502, 502, 502, 502, 502, 502, 502, 502, 502, 502, 502, 502, 502, 502, 502, 502, 502, 502, 502, 502, 502, 502, 502, 502, 502, 502, 502, 502, 502, 502, 502, 502, 502, 502, 502, 502, 502, 502, 502, 502, 502, 502, 502, 502, 502, 502, 502, 502, 502, 502, 502, 502, 502, 502, 502, 502, 502, 502, 502, 502, 502, 502, 502, 502, 502, 502, 502, 502, 502, 502, 502, 502, 502, 502, 502, 502, 502, 502, 502, 502, 502, 502, 502, 502, 502, 502, 502, 502, 502, 502, 502, 502, 502, 502, 502, 502, 502, 502, 502, 502, 502, 502, 502, 502, 502, 502, 502, 502, 502, 502, 502, 502, 502, 502, 502, 502, 502, 502, 502, 502, 502, 502, 502, 502, 502, 502, 502, 502, 502, 502, 502, 502, 502, 502, 502, 502, 502, 502, 502, 502, 502, 502, 502, 502, 502, 502, 502, 502, 502, 502, 502, 502, 502, 502, 502, 502, 502, 502, 502, 502, 502, 502, 502, 502, 502, 502, 502, 502, 502, 502, 502, 502, 502, 502, 502, 502, 502, 502, 502, 502, 502, 502, 502, 502, 502, 502, 502, 502, 502, 502, 502, 502, 502, 502, 502, 502, 502, 502, 502, 502, 502, 502, 502, 502, 502, 502, 502, 502, 502, 502, 502, 502, 502, 502, 502, 502, 502, 502, 502, 502, 502, 502, 502, 502, 502, 502, 502, 502, 502, 502, 502, 502, 502, 502, 502, 502, 502, 502, 502, 502, 502, 502, 502, 502, 502, 502, 502, 502, 502, 502, 502, 502, 502, 502, 502, 502, 502, 502, 502, 502, 502, 502, 502, 502, 502, 502, 502, 502, 502, 502, 502, 502, 502, 502, 502, 502, 502, 502, 502, 502, 502, 502, 502, 502, 502, 502, 502, 502, 502, 502, 502, 502, 502, 502, 502, 502, 502, 502, 502, 502, 502, 502, 502, 502, 502, 502, 502, 502, 502, 502, 502, 502, 502, 502, 502, 502, 502, 502, 502, 502, 502, 502, 502, 502, 502, 502, 502, 502, 502, 502, 502, 502, 502, 502, 502, 502, 502, 502, 502, 502, 502, 502, 502, 502, 502, 502, 502, 502, 502, 502, 502, 502, 502, 502, 502, 502, 502, 502, 502, 502, 502, 502, 502, 502, 502, 502, 502, 502, 502, 502, 502, 502, 502, 502, 502, 502, 502, 502, 502, 502, 502, 502, 502, 502, 502, 502, 502, 502, 502, 502, 502, 502, 502, 502, 502, 502, 502, 502, 502, 502, 502, 502, 502, 502, 502, 502, 502, 502, 502, 502, 502, 502, 502, 502, 502, 502, 502, 502, 502, 502, 502, 502, 502, 502, 502, 502, 502, 502, 502, 502, 502, 502, 502, 502, 502, 502, 502, 502, 502, 502, 502, 502, 502, 502, 502, 502, 502, 502, 502, 502, 502, 502, 502, 502, 502, 502, 502, 502, 502, 502, 502, 502, 502, 502, 502, 502, 502, 502, 502, 502, 502, 502, 502, 502, 502, 502, 502, 502, 502, 502, 502, 502, 502, 502, 502, 502, 502, 502, 502, 502, 502, 502, 502, 502, 502, 502, 502, 502, 502, 502, 502, 502, 502, 502, 502, 502, 502, 502, 502, 502, 502, 502, 502, 502, 502, 502, 502, 502, 502, 502, 502, 502, 502, 502, 502, 502, 502, 502, 502, 502, 502, 502, 502, 502, 502, 502, 502, 502, 502, 502, 502, 502, 502, 502, 502, 502, 502, 502, 502, 502, 502, 502, 502, 502, 502, 502, 502, 502, 502, 502, 502, 502, 502, 502, 502, 502, 502, 502, 502, 502, 502, 502, 502, 502, 502, 502, 502, 502, 502, 502, 502, 502, 502, 502, 502, 502, 502, 502, 502, 502, 502, 502, 502, 502, 502, 502, 502, 502, 502, 502, 502, 502, 502, 502, 502, 502, 502, 502, 502, 502, 502, 502, 502, 502, 502, 502, 502, 502, 502, 502, 502, 502, 502, 502, 502, 502, 502, 502, 502, 502, 502, 502, 502, 502, 502, 502, 502, 502, 502, 502, 502, 502, 502, 502, 502, 502, 502, 502, 502, 502, 502, 502, 502, 502, 502, 502, 502, 502, 502, 502, 502, 502, 502, 502, 502, 502, 502, 502, 502, 502, 502, 502, 502, 502, 502, 502, 502, 502, 502, 502, 502, 502, 502, 502, 502, 502, 502, 502, 502, 502, 502, 502, 502, 502, 502, 502, 502, 502, 502, 502, 502, 502, 502, 502, 502, 502, 502, 502, 502, 502, 502, 502, 502, 502, 502, 502, 502, 502, 502, 502, 502, 502, 502, 502, 502, 502, 502, 502, 502, 502, 502, 502, 502, 502, 502, 502, 502, 502, 502, 502, 502, 502, 502, 502, 502, 502, 502, 502, 502, 502, 502, 502, 502, 502, 502, 502, 502, 502, 502, 502, 502, 502, 502, 502, 502, 502, 502, 502, 502, 502, 502, 502, 502, 502, 502, 502, 502, 502, 502, 502, 502, 502, 502, 502, 502, 502, 502, 502, 502, 502, 502, 502, 502, 502, 502, 502, 502, 502, 502, 502, 502, 502, 502, 502, 502, 502, 502, 502, 502, 502, 502, 502, 502, 502, 502, 502, 502, 502, 502, 502, 502, 502, 502, 502, 502, 502, 502, 502, 502, 502, 502, 502, 502, 502, 502, 502, 502, 502, 502, 502, 502, 502, 502, 502, 502, 502, 502, 502, 502, 502, 502, 502, 502, 502, 502, 502, 502, 502, 502, 502, 502, 502, 502, 502, 502, 502, 502, 502, 502, 502, 502, 502, 502, 502, 502, 502, 502, 502, 502, 502, 502, 502, 502, 502, 502, 502, 502, 502, 502, 502, 502, 502, 502, 502, 502, 502, 502]\n"
          ]
        }
      ],
      "source": [
        "o = [op[0].tolist()+[op[1],op[2]] for op in o]\n",
        "print([len(op) for op in o])"
      ]
    },
    {
      "cell_type": "code",
      "execution_count": 52,
      "metadata": {},
      "outputs": [
        {
          "name": "stdout",
          "output_type": "stream",
          "text": [
            "[0, 0, 0, 0, 0, 0, 0, 0, 0, 0, 0, 0, 0, 0, 0, 0, 0, 0, 0, 0, 0, 0, 0, 0, 0, 0, 0, 0, 0, 0, 0, 0, 0, 0, 0, 0, 0, 0, 0, 0, 0, 0, 0, 0, 0, 0, 0, 0, 0, 0, 0, 0, 0, 0, 0, 0, 0, 0, 0, 0, 0, 0, 0, 0, 0, 0, 0, 0, 0, 0, 0, 0, 0, 0, 0, 0, 0, 0, 0, 0, 0, 0, 0, 0, 0, 0, 0, 0, 0, 0, 0, 0, 0, 0, 0, 0, 0, 0, 0, 0, 0, 0, 0, 0, 0, 0, 0, 0, 0, 0, 0, 0, 0, 0, 0, 0, 0, 0, 0, 0, 0, 0, 0, 0, 0, 0, 0, 0, 0, 0, 0, 0, 0, 0, 0, 0, 0, 0, 0, 0, 0, 0, 0, 0, 0, 0, 0, 0, 0, 0, 0, 0, 0, 0, 0, 0, 0, 0, 0, 0, 0, 0, 0, 0, 0, 0, 0, 0, 0, 0, 0, 0, 0, 0, 0, 0, 0, 0, 0, 0, 0, 0, 0, 0, 0, 0, 0, 0, 0, 0, 0, 0, 0, 0, 0, 0, 0, 0, 0, 0, 0, 0, 0, 0, 0, 0, 0, 0, 0, 0, 0, 0, 0, 0, 0, 0, 0, 0, 0, 0, 0, 0, 0, 0, 0, 0, 0, 0, 0, 0, 0, 0, 0, 0, 0, 0, 0, 0, 0, 0, 0, 0, 0, 0, 0, 0, 0, 0, 0, 0, 0, 0, 0, 0, 0, 0, 0, 0, 0, 0, 0, 0, 0, 0, 0, 0, 0, 0, 0, 0, 0, 0, 0, 0, 8, 2655, 7, 2, 1334, 5008, 58, 20, 3473, 805, 30, 1780, 3695, 147, 490, 20, 4915, 6260, 14, 1485, 3529, 1778, 56, 1420, 0, 0, 0, 0, 0, 0, 0, 0, 0, 0, 0, 0, 0, 0, 0, 0, 0, 0, 0, 0, 0, 0, 0, 0, 0, 0, 0, 0, 0, 0, 0, 0, 0, 0, 0, 0, 0, 0, 0, 0, 0, 0, 0, 0, 0, 0, 0, 0, 0, 0, 0, 0, 0, 0, 0, 0, 0, 0, 0, 0, 0, 0, 0, 0, 0, 0, 0, 0, 0, 0, 0, 0, 0, 0, 0, 0, 0, 0, 0, 0, 0, 0, 0, 0, 0, 0, 0, 0, 0, 0, 0, 0, 0, 0, 0, 0, 0, 0, 0, 0, 0, 0, 0, 0, 0, 0, 0, 0, 0, 0, 0, 0, 0, 0, 0, 0, 0, 0, 0, 0, 0, 0, 0, 0, 0, 0, 0, 0, 0, 0, 0, 0, 0, 0, 0, 0, 0, 0, 0, 0, 0, 0, 0, 0, 0, 0, 0, 0, 0, 0, 0, 0, 0, 0, 0, 0, 0, 0, 0, 0, 0, 0, 0, 0, 0, 0, 0, 0, 0, 0, 0, 0, 0, 0, 0, 0, 0, 0, 0, 0, 0, 0, 0, 0, 0, 0, 0, 0, 0, 0, 0, 0, 0, 0, 0, 0, 0, 0, 0, 0, 0, 0, 0.10619469026548672, 0.10619469026548672]\n"
          ]
        }
      ],
      "source": [
        "print(o[0])"
      ]
    },
    {
      "cell_type": "code",
      "execution_count": 53,
      "metadata": {
        "id": "t1LJFGfRfDuQ"
      },
      "outputs": [
        {
          "data": {
            "text/html": [
              "<style>#sk-container-id-2 {color: black;background-color: white;}#sk-container-id-2 pre{padding: 0;}#sk-container-id-2 div.sk-toggleable {background-color: white;}#sk-container-id-2 label.sk-toggleable__label {cursor: pointer;display: block;width: 100%;margin-bottom: 0;padding: 0.3em;box-sizing: border-box;text-align: center;}#sk-container-id-2 label.sk-toggleable__label-arrow:before {content: \"▸\";float: left;margin-right: 0.25em;color: #696969;}#sk-container-id-2 label.sk-toggleable__label-arrow:hover:before {color: black;}#sk-container-id-2 div.sk-estimator:hover label.sk-toggleable__label-arrow:before {color: black;}#sk-container-id-2 div.sk-toggleable__content {max-height: 0;max-width: 0;overflow: hidden;text-align: left;background-color: #f0f8ff;}#sk-container-id-2 div.sk-toggleable__content pre {margin: 0.2em;color: black;border-radius: 0.25em;background-color: #f0f8ff;}#sk-container-id-2 input.sk-toggleable__control:checked~div.sk-toggleable__content {max-height: 200px;max-width: 100%;overflow: auto;}#sk-container-id-2 input.sk-toggleable__control:checked~label.sk-toggleable__label-arrow:before {content: \"▾\";}#sk-container-id-2 div.sk-estimator input.sk-toggleable__control:checked~label.sk-toggleable__label {background-color: #d4ebff;}#sk-container-id-2 div.sk-label input.sk-toggleable__control:checked~label.sk-toggleable__label {background-color: #d4ebff;}#sk-container-id-2 input.sk-hidden--visually {border: 0;clip: rect(1px 1px 1px 1px);clip: rect(1px, 1px, 1px, 1px);height: 1px;margin: -1px;overflow: hidden;padding: 0;position: absolute;width: 1px;}#sk-container-id-2 div.sk-estimator {font-family: monospace;background-color: #f0f8ff;border: 1px dotted black;border-radius: 0.25em;box-sizing: border-box;margin-bottom: 0.5em;}#sk-container-id-2 div.sk-estimator:hover {background-color: #d4ebff;}#sk-container-id-2 div.sk-parallel-item::after {content: \"\";width: 100%;border-bottom: 1px solid gray;flex-grow: 1;}#sk-container-id-2 div.sk-label:hover label.sk-toggleable__label {background-color: #d4ebff;}#sk-container-id-2 div.sk-serial::before {content: \"\";position: absolute;border-left: 1px solid gray;box-sizing: border-box;top: 0;bottom: 0;left: 50%;z-index: 0;}#sk-container-id-2 div.sk-serial {display: flex;flex-direction: column;align-items: center;background-color: white;padding-right: 0.2em;padding-left: 0.2em;position: relative;}#sk-container-id-2 div.sk-item {position: relative;z-index: 1;}#sk-container-id-2 div.sk-parallel {display: flex;align-items: stretch;justify-content: center;background-color: white;position: relative;}#sk-container-id-2 div.sk-item::before, #sk-container-id-2 div.sk-parallel-item::before {content: \"\";position: absolute;border-left: 1px solid gray;box-sizing: border-box;top: 0;bottom: 0;left: 50%;z-index: -1;}#sk-container-id-2 div.sk-parallel-item {display: flex;flex-direction: column;z-index: 1;position: relative;background-color: white;}#sk-container-id-2 div.sk-parallel-item:first-child::after {align-self: flex-end;width: 50%;}#sk-container-id-2 div.sk-parallel-item:last-child::after {align-self: flex-start;width: 50%;}#sk-container-id-2 div.sk-parallel-item:only-child::after {width: 0;}#sk-container-id-2 div.sk-dashed-wrapped {border: 1px dashed gray;margin: 0 0.4em 0.5em 0.4em;box-sizing: border-box;padding-bottom: 0.4em;background-color: white;}#sk-container-id-2 div.sk-label label {font-family: monospace;font-weight: bold;display: inline-block;line-height: 1.2em;}#sk-container-id-2 div.sk-label-container {text-align: center;}#sk-container-id-2 div.sk-container {/* jupyter's `normalize.less` sets `[hidden] { display: none; }` but bootstrap.min.css set `[hidden] { display: none !important; }` so we also need the `!important` here to be able to override the default hidden behavior on the sphinx rendered scikit-learn.org. See: https://github.com/scikit-learn/scikit-learn/issues/21755 */display: inline-block !important;position: relative;}#sk-container-id-2 div.sk-text-repr-fallback {display: none;}</style><div id=\"sk-container-id-2\" class=\"sk-top-container\"><div class=\"sk-text-repr-fallback\"><pre>SVC()</pre><b>In a Jupyter environment, please rerun this cell to show the HTML representation or trust the notebook. <br />On GitHub, the HTML representation is unable to render, please try loading this page with nbviewer.org.</b></div><div class=\"sk-container\" hidden><div class=\"sk-item\"><div class=\"sk-estimator sk-toggleable\"><input class=\"sk-toggleable__control sk-hidden--visually\" id=\"sk-estimator-id-2\" type=\"checkbox\" checked><label for=\"sk-estimator-id-2\" class=\"sk-toggleable__label sk-toggleable__label-arrow\">SVC</label><div class=\"sk-toggleable__content\"><pre>SVC()</pre></div></div></div></div></div>"
            ],
            "text/plain": [
              "SVC()"
            ]
          },
          "execution_count": 53,
          "metadata": {},
          "output_type": "execute_result"
        }
      ],
      "source": [
        "from sklearn import svm\n",
        "\n",
        "clf = svm.SVC()\n",
        "clf.fit(o, oy)"
      ]
    },
    {
      "cell_type": "code",
      "execution_count": 54,
      "metadata": {},
      "outputs": [
        {
          "name": "stdout",
          "output_type": "stream",
          "text": [
            "              precision    recall  f1-score   support\n",
            "\n",
            "           0       1.00      0.02      0.05       126\n",
            "           1       0.89      1.00      0.94       961\n",
            "\n",
            "    accuracy                           0.89      1087\n",
            "   macro avg       0.94      0.51      0.49      1087\n",
            "weighted avg       0.90      0.89      0.84      1087\n",
            "\n",
            "[[  3 123]\n",
            " [  0 961]]\n"
          ]
        }
      ],
      "source": [
        "from sklearn.metrics import classification_report, confusion_matrix\n",
        "preds = clf.predict(o)\n",
        "print(classification_report(oy, preds))\n",
        "print(confusion_matrix(oy, preds))"
      ]
    }
  ],
  "metadata": {
    "accelerator": "GPU",
    "colab": {
      "provenance": []
    },
    "gpuClass": "standard",
    "kernelspec": {
      "display_name": "Python 3",
      "language": "python",
      "name": "python3"
    },
    "language_info": {
      "codemirror_mode": {
        "name": "ipython",
        "version": 3
      },
      "file_extension": ".py",
      "mimetype": "text/x-python",
      "name": "python",
      "nbconvert_exporter": "python",
      "pygments_lexer": "ipython3",
      "version": "3.10.5"
    }
  },
  "nbformat": 4,
  "nbformat_minor": 0
}
