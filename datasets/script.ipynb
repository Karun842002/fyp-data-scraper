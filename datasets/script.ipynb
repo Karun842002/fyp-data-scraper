{
 "cells": [
  {
   "cell_type": "code",
   "execution_count": 46,
   "metadata": {},
   "outputs": [
    {
     "data": {
      "text/plain": [
       "Index(['claim', 'truth_value', 'source', 'simple_sentence'], dtype='object')"
      ]
     },
     "execution_count": 46,
     "metadata": {},
     "output_type": "execute_result"
    }
   ],
   "source": [
    "import pandas as pd\n",
    "\n",
    "df = pd.read_csv('tst.csv', index_col=[0])\n",
    "df.columns\n"
   ]
  },
  {
   "cell_type": "code",
   "execution_count": 49,
   "metadata": {},
   "outputs": [],
   "source": [
    "df.drop(index=[i for i in range(6250, len(df))], inplace=True)"
   ]
  },
  {
   "cell_type": "code",
   "execution_count": 51,
   "metadata": {},
   "outputs": [],
   "source": [
    "xdf = df.drop(df[df['source']=='reuters'].index)"
   ]
  },
  {
   "cell_type": "code",
   "execution_count": 54,
   "metadata": {},
   "outputs": [
    {
     "data": {
      "text/html": [
       "<div>\n",
       "<style scoped>\n",
       "    .dataframe tbody tr th:only-of-type {\n",
       "        vertical-align: middle;\n",
       "    }\n",
       "\n",
       "    .dataframe tbody tr th {\n",
       "        vertical-align: top;\n",
       "    }\n",
       "\n",
       "    .dataframe thead th {\n",
       "        text-align: right;\n",
       "    }\n",
       "</style>\n",
       "<table border=\"1\" class=\"dataframe\">\n",
       "  <thead>\n",
       "    <tr style=\"text-align: right;\">\n",
       "      <th></th>\n",
       "      <th>claim</th>\n",
       "      <th>truth_value</th>\n",
       "      <th>source</th>\n",
       "      <th>simple_sentence</th>\n",
       "    </tr>\n",
       "  </thead>\n",
       "  <tbody>\n",
       "    <tr>\n",
       "      <th>0</th>\n",
       "      <td>In Ukraine, the theft and homicide levels rose...</td>\n",
       "      <td>meter-false</td>\n",
       "      <td>vox-ukraine</td>\n",
       "      <td>In Ukraine  the theft homicide levels rose due...</td>\n",
       "    </tr>\n",
       "    <tr>\n",
       "      <th>1</th>\n",
       "      <td>Ukrainians beat two Berlin residents for speak...</td>\n",
       "      <td>meter-false</td>\n",
       "      <td>vox-ukraine</td>\n",
       "      <td>Ukrainians beat two Berlin residents for speak...</td>\n",
       "    </tr>\n",
       "    <tr>\n",
       "      <th>2</th>\n",
       "      <td>A quote from Paul Goebbels about the Banderites</td>\n",
       "      <td>meter-false</td>\n",
       "      <td>vox-ukraine</td>\n",
       "      <td>A quote from Paul Goebbels about the Banderites .</td>\n",
       "    </tr>\n",
       "    <tr>\n",
       "      <th>3</th>\n",
       "      <td>The “Culture of good neighborliness” course fo...</td>\n",
       "      <td>meter-false</td>\n",
       "      <td>vox-ukraine</td>\n",
       "      <td>The “ Culture of good neighborliness ” course ...</td>\n",
       "    </tr>\n",
       "    <tr>\n",
       "      <th>4</th>\n",
       "      <td>US research in Ukraine led to an increase in t...</td>\n",
       "      <td>meter-false</td>\n",
       "      <td>vox-ukraine</td>\n",
       "      <td>US research in Ukraine led to an increase in t...</td>\n",
       "    </tr>\n",
       "    <tr>\n",
       "      <th>...</th>\n",
       "      <td>...</td>\n",
       "      <td>...</td>\n",
       "      <td>...</td>\n",
       "      <td>...</td>\n",
       "    </tr>\n",
       "    <tr>\n",
       "      <th>5427</th>\n",
       "      <td>Population Growth Is Making Hurricanes More Ex...</td>\n",
       "      <td>meter-true</td>\n",
       "      <td>nyt</td>\n",
       "      <td>Population Growth Is Making Hurricanes More Ex...</td>\n",
       "    </tr>\n",
       "    <tr>\n",
       "      <th>5428</th>\n",
       "      <td>OPEC and Russia to Meet as Global Forces Weigh...</td>\n",
       "      <td>meter-true</td>\n",
       "      <td>nyt</td>\n",
       "      <td>OPEC to Meet as Global Forces Weigh on Oil Mar...</td>\n",
       "    </tr>\n",
       "    <tr>\n",
       "      <th>5429</th>\n",
       "      <td>World War III Begins With Forgetting. As the l...</td>\n",
       "      <td>meter-true</td>\n",
       "      <td>nyt</td>\n",
       "      <td>World War III Begins With Forgetting.the last ...</td>\n",
       "    </tr>\n",
       "    <tr>\n",
       "      <th>5430</th>\n",
       "      <td>Shadowy Arm of a German State Helped Russia Fi...</td>\n",
       "      <td>meter-true</td>\n",
       "      <td>nyt</td>\n",
       "      <td>Shadowy Arm of a German State Helped Russia Fi...</td>\n",
       "    </tr>\n",
       "    <tr>\n",
       "      <th>5431</th>\n",
       "      <td>Europe Is Wrong to Blame the U.S. for Its Ener...</td>\n",
       "      <td>meter-true</td>\n",
       "      <td>nyt</td>\n",
       "      <td>Europe Is Wrong to Blame the U.S. for Its Ener...</td>\n",
       "    </tr>\n",
       "  </tbody>\n",
       "</table>\n",
       "<p>5432 rows × 4 columns</p>\n",
       "</div>"
      ],
      "text/plain": [
       "                                                  claim  truth_value  \\\n",
       "0     In Ukraine, the theft and homicide levels rose...  meter-false   \n",
       "1     Ukrainians beat two Berlin residents for speak...  meter-false   \n",
       "2       A quote from Paul Goebbels about the Banderites  meter-false   \n",
       "3     The “Culture of good neighborliness” course fo...  meter-false   \n",
       "4     US research in Ukraine led to an increase in t...  meter-false   \n",
       "...                                                 ...          ...   \n",
       "5427  Population Growth Is Making Hurricanes More Ex...   meter-true   \n",
       "5428  OPEC and Russia to Meet as Global Forces Weigh...   meter-true   \n",
       "5429  World War III Begins With Forgetting. As the l...   meter-true   \n",
       "5430  Shadowy Arm of a German State Helped Russia Fi...   meter-true   \n",
       "5431  Europe Is Wrong to Blame the U.S. for Its Ener...   meter-true   \n",
       "\n",
       "           source                                    simple_sentence  \n",
       "0     vox-ukraine  In Ukraine  the theft homicide levels rose due...  \n",
       "1     vox-ukraine  Ukrainians beat two Berlin residents for speak...  \n",
       "2     vox-ukraine  A quote from Paul Goebbels about the Banderites .  \n",
       "3     vox-ukraine  The “ Culture of good neighborliness ” course ...  \n",
       "4     vox-ukraine  US research in Ukraine led to an increase in t...  \n",
       "...           ...                                                ...  \n",
       "5427          nyt  Population Growth Is Making Hurricanes More Ex...  \n",
       "5428          nyt  OPEC to Meet as Global Forces Weigh on Oil Mar...  \n",
       "5429          nyt  World War III Begins With Forgetting.the last ...  \n",
       "5430          nyt  Shadowy Arm of a German State Helped Russia Fi...  \n",
       "5431          nyt  Europe Is Wrong to Blame the U.S. for Its Ener...  \n",
       "\n",
       "[5432 rows x 4 columns]"
      ]
     },
     "execution_count": 54,
     "metadata": {},
     "output_type": "execute_result"
    }
   ],
   "source": [
    "xdf"
   ]
  },
  {
   "cell_type": "code",
   "execution_count": 55,
   "metadata": {},
   "outputs": [],
   "source": [
    "xdf.to_csv('latest.csv')"
   ]
  },
  {
   "cell_type": "code",
   "execution_count": null,
   "metadata": {},
   "outputs": [],
   "source": [
    "6250"
   ]
  }
 ],
 "metadata": {
  "kernelspec": {
   "display_name": "dlapp",
   "language": "python",
   "name": "python3"
  },
  "language_info": {
   "codemirror_mode": {
    "name": "ipython",
    "version": 3
   },
   "file_extension": ".py",
   "mimetype": "text/x-python",
   "name": "python",
   "nbconvert_exporter": "python",
   "pygments_lexer": "ipython3",
   "version": "3.8.12"
  },
  "orig_nbformat": 4
 },
 "nbformat": 4,
 "nbformat_minor": 2
}
