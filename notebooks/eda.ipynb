{
 "cells": [
  {
   "cell_type": "code",
   "execution_count": 2,
   "metadata": {},
   "outputs": [],
   "source": [
    "import pandas as pd\n",
    "import matplotlib.pyplot as plt\n",
    "import numpy as np"
   ]
  },
  {
   "cell_type": "code",
   "execution_count": 2,
   "metadata": {},
   "outputs": [
    {
     "data": {
      "text/plain": [
       "(Unnamed: 0         10749\n",
       " claim              10749\n",
       " truth_value        10749\n",
       " source              5432\n",
       " simple_sentence    10691\n",
       " dtype: int64,\n",
       " meter-false    5857\n",
       " meter-true     4892\n",
       " Name: truth_value, dtype: int64)"
      ]
     },
     "execution_count": 2,
     "metadata": {},
     "output_type": "execute_result"
    }
   ],
   "source": [
    "df = pd.read_csv('../scraper/datasets/allmerged.csv')\n",
    "df.count(), df['truth_value'].value_counts()"
   ]
  },
  {
   "cell_type": "code",
   "execution_count": 5,
   "metadata": {},
   "outputs": [
    {
     "data": {
      "image/png": "[encoded data removed]",
      "text/plain": [
       "<Figure size 432x288 with 1 Axes>"
      ]
     },
     "metadata": {},
     "output_type": "display_data"
    }
   ],
   "source": [
    "count_labels = df['truth_value'].value_counts()\n",
    "percent_labels = 100 * count_labels / len(df)\n",
    "\n",
    "# Create a pie chart with custom labels\n",
    "labels = ['True', 'Fake']\n",
    "plt.pie(count_labels, labels=labels, autopct='%1.1f%%')\n",
    "plt.show()\n"
   ]
  },
  {
   "cell_type": "code",
   "execution_count": 7,
   "metadata": {},
   "outputs": [],
   "source": [
    "ddf = pd.read_csv('../scraper/datasets/disinfo.csv', index_col=0)\n",
    "pdf = pd.read_csv('../scraper/datasets/polygraphv2.csv', index_col=0)\n",
    "sdf = pd.read_csv('../scraper/datasets/stopfakev2.csv', index_col=0)\n"
   ]
  },
  {
   "cell_type": "code",
   "execution_count": 8,
   "metadata": {},
   "outputs": [
    {
     "data": {
      "text/plain": [
       "(meter-false    2145\n",
       " Name: 1, dtype: int64,\n",
       " meter-false    1197\n",
       " meter-true       26\n",
       " Name: 1, dtype: int64,\n",
       " meter-false    1983\n",
       " Name: 1, dtype: int64)"
      ]
     },
     "execution_count": 8,
     "metadata": {},
     "output_type": "execute_result"
    }
   ],
   "source": [
    "ddf['1'].value_counts(), pdf['1'].value_counts(), sdf['1'].value_counts(), "
   ]
  },
  {
   "cell_type": "code",
   "execution_count": null,
   "metadata": {},
   "outputs": [],
   "source": [
    "sources = {'New york times (true)': 1878,\n",
    "'NR Public (true)': 1779,\n",
    "'Washington Post (true)': 990,\n",
    "'Reuters (true)': 818,\n",
    "'Politifact (fake)': 558,\n",
    "'Politifact (true)': 235,\n",
    "'Vox-ukraine (fake)': 8,\n",
    "'Manually scraped (fake)': 428,\n",
    "'Manually scraped (true)': 12,\n",
    "'EUvsDisinfo (fake)': 2145,\n",
    "'Polygraph (fake)': 1197,\n",
    "'Polygraph (true)': 26,\n",
    "'StopFake (fake)': 1983}\n",
    "\n",
    "\n",
    "# Create a pie chart\n",
    "labels = list(sources.keys())\n",
    "sizes = list(sources.values())\n",
    "fig, ax = plt.subplots(figsize=(15, 15))\n",
    "ax.pie(sizes, labels=labels, autopct='%1.1f%%', startangle=90)\n",
    "\n",
    "# Add a title\n",
    "ax.set_title('Sources of News')\n",
    "\n",
    "# Display the chart\n",
    "plt.show()\n"
   ]
  },
  {
   "cell_type": "code",
   "execution_count": 14,
   "metadata": {},
   "outputs": [
    {
     "data": {
      "text/plain": [
       "12057"
      ]
     },
     "execution_count": 14,
     "metadata": {},
     "output_type": "execute_result"
    }
   ],
   "source": [
    "sum(sizes)"
   ]
  },
  {
   "cell_type": "code",
   "execution_count": 16,
   "metadata": {},
   "outputs": [
    {
     "data": {
      "text/plain": [
       "Index(['claim', 'truth_value', 'source', 'simple_sentence'], dtype='object')"
      ]
     },
     "execution_count": 16,
     "metadata": {},
     "output_type": "execute_result"
    }
   ],
   "source": [
    "prevdf = pd.read_csv(r'D:\\FYP\\fyp-data-scraper\\scraper\\datasets\\latest.csv', index_col=0)\n",
    "prevdf.columns"
   ]
  },
  {
   "cell_type": "code",
   "execution_count": 17,
   "metadata": {},
   "outputs": [
    {
     "data": {
      "text/plain": [
       "nyt                1862\n",
       "nrpublic           1779\n",
       "washington-post     990\n",
       "politifact          793\n",
       "vox-ukraine           8\n",
       "Name: source, dtype: int64"
      ]
     },
     "execution_count": 17,
     "metadata": {},
     "output_type": "execute_result"
    }
   ],
   "source": [
    "prevdf['source'].value_counts()"
   ]
  },
  {
   "cell_type": "code",
   "execution_count": 18,
   "metadata": {},
   "outputs": [
    {
     "data": {
      "text/plain": [
       "nyt                     1878\n",
       "nrpublic                1779\n",
       "washington-post          990\n",
       "reuters                  818\n",
       "politifact               793\n",
       "                        ... \n",
       "Viktoria Abramchenko       1\n",
       "2 Minutes Gain             1\n",
       "Réseaux sociaux            1\n",
       "Wang Wenbin                1\n",
       "Lubos Batorek              1\n",
       "Name: source, Length: 213, dtype: int64"
      ]
     },
     "execution_count": 18,
     "metadata": {},
     "output_type": "execute_result"
    }
   ],
   "source": [
    "allmdf = pd.read_csv(r'D:\\FYP\\fyp-data-scraper\\scraper\\datasets\\allmerged.csv', index_col=0)\n",
    "cldf = pd.read_csv(r'D:\\FYP\\fyp-data-scraper\\scraper\\datasets\\cleaned4.csv', index_col=0)\n",
    "cldf['source'].value_counts()"
   ]
  },
  {
   "cell_type": "code",
   "execution_count": 20,
   "metadata": {},
   "outputs": [
    {
     "data": {
      "text/html": [
       "<div>\n",
       "<style scoped>\n",
       "    .dataframe tbody tr th:only-of-type {\n",
       "        vertical-align: middle;\n",
       "    }\n",
       "\n",
       "    .dataframe tbody tr th {\n",
       "        vertical-align: top;\n",
       "    }\n",
       "\n",
       "    .dataframe thead th {\n",
       "        text-align: right;\n",
       "    }\n",
       "</style>\n",
       "<table border=\"1\" class=\"dataframe\">\n",
       "  <thead>\n",
       "    <tr style=\"text-align: right;\">\n",
       "      <th></th>\n",
       "      <th>claim</th>\n",
       "      <th>simple_sentence</th>\n",
       "      <th>truth_value</th>\n",
       "      <th>source</th>\n",
       "    </tr>\n",
       "  </thead>\n",
       "  <tbody>\n",
       "    <tr>\n",
       "      <th>0</th>\n",
       "      <td>In Ukraine, the theft and homicide levels rose...</td>\n",
       "      <td>In Ukraine  the theft homicide levels rose due...</td>\n",
       "      <td>meter-false</td>\n",
       "      <td>vox-ukraine</td>\n",
       "    </tr>\n",
       "    <tr>\n",
       "      <th>1</th>\n",
       "      <td>Ukrainians beat two Berlin residents for speak...</td>\n",
       "      <td>Ukrainians beat two Berlin residents for speak...</td>\n",
       "      <td>meter-false</td>\n",
       "      <td>vox-ukraine</td>\n",
       "    </tr>\n",
       "    <tr>\n",
       "      <th>2</th>\n",
       "      <td>A quote from Paul Goebbels about the Banderites</td>\n",
       "      <td>A quote from Paul Goebbels about the Banderites .</td>\n",
       "      <td>meter-false</td>\n",
       "      <td>vox-ukraine</td>\n",
       "    </tr>\n",
       "    <tr>\n",
       "      <th>3</th>\n",
       "      <td>The “Culture of good neighborliness” course fo...</td>\n",
       "      <td>The “ Culture of good neighborliness ” course ...</td>\n",
       "      <td>meter-false</td>\n",
       "      <td>vox-ukraine</td>\n",
       "    </tr>\n",
       "    <tr>\n",
       "      <th>4</th>\n",
       "      <td>US research in Ukraine led to an increase in t...</td>\n",
       "      <td>US research in Ukraine led to an increase in t...</td>\n",
       "      <td>meter-false</td>\n",
       "      <td>vox-ukraine</td>\n",
       "    </tr>\n",
       "    <tr>\n",
       "      <th>...</th>\n",
       "      <td>...</td>\n",
       "      <td>...</td>\n",
       "      <td>...</td>\n",
       "      <td>...</td>\n",
       "    </tr>\n",
       "    <tr>\n",
       "      <th>12042</th>\n",
       "      <td>meter-false</td>\n",
       "      <td>NaN</td>\n",
       "      <td>meter-false</td>\n",
       "      <td>stopfake</td>\n",
       "    </tr>\n",
       "    <tr>\n",
       "      <th>12043</th>\n",
       "      <td>meter-false</td>\n",
       "      <td>NaN</td>\n",
       "      <td>meter-false</td>\n",
       "      <td>stopfake</td>\n",
       "    </tr>\n",
       "    <tr>\n",
       "      <th>12044</th>\n",
       "      <td>Іn 2014, a Ukrainian junta and its US supporte...</td>\n",
       "      <td>Іn 2014 provoked war in Donbas. A Ukrainian ju...</td>\n",
       "      <td>meter-false</td>\n",
       "      <td>EUvsDisinfo</td>\n",
       "    </tr>\n",
       "    <tr>\n",
       "      <th>12045</th>\n",
       "      <td>‘Fully Confident’? Beijing Exaggerates Foreign...</td>\n",
       "      <td>‘Fully Confident’? Beijing Exaggerates Foreign...</td>\n",
       "      <td>meter-false</td>\n",
       "      <td>polygraph</td>\n",
       "    </tr>\n",
       "    <tr>\n",
       "      <th>12046</th>\n",
       "      <td>‘Landlord’ of Belarus Smites the Press and Wom...</td>\n",
       "      <td>` Landlord ' of Belarus Smites the Press in Po...</td>\n",
       "      <td>meter-false</td>\n",
       "      <td>polygraph</td>\n",
       "    </tr>\n",
       "  </tbody>\n",
       "</table>\n",
       "<p>12047 rows × 4 columns</p>\n",
       "</div>"
      ],
      "text/plain": [
       "                                                   claim  \\\n",
       "0      In Ukraine, the theft and homicide levels rose...   \n",
       "1      Ukrainians beat two Berlin residents for speak...   \n",
       "2        A quote from Paul Goebbels about the Banderites   \n",
       "3      The “Culture of good neighborliness” course fo...   \n",
       "4      US research in Ukraine led to an increase in t...   \n",
       "...                                                  ...   \n",
       "12042                                        meter-false   \n",
       "12043                                        meter-false   \n",
       "12044  Іn 2014, a Ukrainian junta and its US supporte...   \n",
       "12045  ‘Fully Confident’? Beijing Exaggerates Foreign...   \n",
       "12046  ‘Landlord’ of Belarus Smites the Press and Wom...   \n",
       "\n",
       "                                         simple_sentence  truth_value  \\\n",
       "0      In Ukraine  the theft homicide levels rose due...  meter-false   \n",
       "1      Ukrainians beat two Berlin residents for speak...  meter-false   \n",
       "2      A quote from Paul Goebbels about the Banderites .  meter-false   \n",
       "3      The “ Culture of good neighborliness ” course ...  meter-false   \n",
       "4      US research in Ukraine led to an increase in t...  meter-false   \n",
       "...                                                  ...          ...   \n",
       "12042                                                NaN  meter-false   \n",
       "12043                                                NaN  meter-false   \n",
       "12044  Іn 2014 provoked war in Donbas. A Ukrainian ju...  meter-false   \n",
       "12045  ‘Fully Confident’? Beijing Exaggerates Foreign...  meter-false   \n",
       "12046  ` Landlord ' of Belarus Smites the Press in Po...  meter-false   \n",
       "\n",
       "            source  \n",
       "0      vox-ukraine  \n",
       "1      vox-ukraine  \n",
       "2      vox-ukraine  \n",
       "3      vox-ukraine  \n",
       "4      vox-ukraine  \n",
       "...            ...  \n",
       "12042     stopfake  \n",
       "12043     stopfake  \n",
       "12044  EUvsDisinfo  \n",
       "12045    polygraph  \n",
       "12046    polygraph  \n",
       "\n",
       "[12047 rows x 4 columns]"
      ]
     },
     "execution_count": 20,
     "metadata": {},
     "output_type": "execute_result"
    }
   ],
   "source": [
    "df = pd.read_csv(r'D:\\FYP\\fyp-data-scraper\\scraper\\datasets\\latest4.csv')\n",
    "df.head(-10)"
   ]
  },
  {
   "cell_type": "code",
   "execution_count": 8,
   "metadata": {},
   "outputs": [
    {
     "data": {
      "text/plain": [
       "<AxesSubplot:>"
      ]
     },
     "execution_count": 8,
     "metadata": {},
     "output_type": "execute_result"
    },
    {
     "data": {
      "image/png": "[encoded data removed]",
      "text/plain": [
       "<Figure size 432x288 with 2 Axes>"
      ]
     },
     "metadata": {
      "needs_background": "light"
     },
     "output_type": "display_data"
    }
   ],
   "source": [
    "import seaborn as sns\n",
    "import pandas as pd\n",
    "import matplotlib.pyplot as plt\n",
    "\n",
    "array = [[1168 , 110],\n",
    "         [208 , 926]]\n",
    "# df_cm = pd.DataFrame(array, index = [i for i in ['True', 'Fake']],\n",
    "#                   columns = [i for i in ['True', 'Fake']])\n",
    "# plt.figure(figsize = (10,7))\n",
    "sns.heatmap(array, annot=True, fmt='g', cmap='Blues')\n"
   ]
  },
  {
   "cell_type": "code",
   "execution_count": null,
   "metadata": {},
   "outputs": [],
   "source": []
  }
 ],
 "metadata": {
  "kernelspec": {
   "display_name": "dlapp",
   "language": "python",
   "name": "python3"
  },
  "language_info": {
   "codemirror_mode": {
    "name": "ipython",
    "version": 3
   },
   "file_extension": ".py",
   "mimetype": "text/x-python",
   "name": "python",
   "nbconvert_exporter": "python",
   "pygments_lexer": "ipython3",
   "version": "3.8.12"
  },
  "orig_nbformat": 4
 },
 "nbformat": 4,
 "nbformat_minor": 2
}
